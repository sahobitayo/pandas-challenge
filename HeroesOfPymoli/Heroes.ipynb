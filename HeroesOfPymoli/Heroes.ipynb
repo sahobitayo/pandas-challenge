{
 "cells": [
  {
   "cell_type": "code",
   "execution_count": 1,
   "metadata": {},
   "outputs": [],
   "source": [
    "# Dependencies and Setup\n",
    "import pandas as pd\n",
    "\n"
   ]
  },
  {
   "cell_type": "code",
   "execution_count": 2,
   "metadata": {},
   "outputs": [],
   "source": [
    "# File to Load (Remember to Change These)\n",
    "file_to_load = \"purchase_data.csv\"\n",
    "\n",
    "# Read Purchasing File and store into Pandas data frame\n",
    "purchase_data = pd.read_csv(file_to_load)"
   ]
  },
  {
   "cell_type": "markdown",
   "metadata": {},
   "source": [
    "   ## CSV FILE DATA"
   ]
  },
  {
   "cell_type": "code",
   "execution_count": 3,
   "metadata": {},
   "outputs": [
    {
     "data": {
      "text/html": [
       "<div>\n",
       "<style scoped>\n",
       "    .dataframe tbody tr th:only-of-type {\n",
       "        vertical-align: middle;\n",
       "    }\n",
       "\n",
       "    .dataframe tbody tr th {\n",
       "        vertical-align: top;\n",
       "    }\n",
       "\n",
       "    .dataframe thead th {\n",
       "        text-align: right;\n",
       "    }\n",
       "</style>\n",
       "<table border=\"1\" class=\"dataframe\">\n",
       "  <thead>\n",
       "    <tr style=\"text-align: right;\">\n",
       "      <th></th>\n",
       "      <th>Purchase ID</th>\n",
       "      <th>SN</th>\n",
       "      <th>Age</th>\n",
       "      <th>Gender</th>\n",
       "      <th>Item ID</th>\n",
       "      <th>Item Name</th>\n",
       "      <th>Price</th>\n",
       "    </tr>\n",
       "  </thead>\n",
       "  <tbody>\n",
       "    <tr>\n",
       "      <td>0</td>\n",
       "      <td>0</td>\n",
       "      <td>Lisim78</td>\n",
       "      <td>20</td>\n",
       "      <td>Male</td>\n",
       "      <td>108</td>\n",
       "      <td>Extraction, Quickblade Of Trembling Hands</td>\n",
       "      <td>3.53</td>\n",
       "    </tr>\n",
       "    <tr>\n",
       "      <td>1</td>\n",
       "      <td>1</td>\n",
       "      <td>Lisovynya38</td>\n",
       "      <td>40</td>\n",
       "      <td>Male</td>\n",
       "      <td>143</td>\n",
       "      <td>Frenzied Scimitar</td>\n",
       "      <td>1.56</td>\n",
       "    </tr>\n",
       "    <tr>\n",
       "      <td>2</td>\n",
       "      <td>2</td>\n",
       "      <td>Ithergue48</td>\n",
       "      <td>24</td>\n",
       "      <td>Male</td>\n",
       "      <td>92</td>\n",
       "      <td>Final Critic</td>\n",
       "      <td>4.88</td>\n",
       "    </tr>\n",
       "    <tr>\n",
       "      <td>3</td>\n",
       "      <td>3</td>\n",
       "      <td>Chamassasya86</td>\n",
       "      <td>24</td>\n",
       "      <td>Male</td>\n",
       "      <td>100</td>\n",
       "      <td>Blindscythe</td>\n",
       "      <td>3.27</td>\n",
       "    </tr>\n",
       "    <tr>\n",
       "      <td>4</td>\n",
       "      <td>4</td>\n",
       "      <td>Iskosia90</td>\n",
       "      <td>23</td>\n",
       "      <td>Male</td>\n",
       "      <td>131</td>\n",
       "      <td>Fury</td>\n",
       "      <td>1.44</td>\n",
       "    </tr>\n",
       "  </tbody>\n",
       "</table>\n",
       "</div>"
      ],
      "text/plain": [
       "   Purchase ID             SN  Age Gender  Item ID  \\\n",
       "0            0        Lisim78   20   Male      108   \n",
       "1            1    Lisovynya38   40   Male      143   \n",
       "2            2     Ithergue48   24   Male       92   \n",
       "3            3  Chamassasya86   24   Male      100   \n",
       "4            4      Iskosia90   23   Male      131   \n",
       "\n",
       "                                   Item Name  Price  \n",
       "0  Extraction, Quickblade Of Trembling Hands   3.53  \n",
       "1                          Frenzied Scimitar   1.56  \n",
       "2                               Final Critic   4.88  \n",
       "3                                Blindscythe   3.27  \n",
       "4                                       Fury   1.44  "
      ]
     },
     "execution_count": 3,
     "metadata": {},
     "output_type": "execute_result"
    }
   ],
   "source": [
    "#Get the data of the table\n",
    "purchase_data.head()"
   ]
  },
  {
   "cell_type": "markdown",
   "metadata": {},
   "source": [
    "## PLAYER COUNT"
   ]
  },
  {
   "cell_type": "code",
   "execution_count": 4,
   "metadata": {},
   "outputs": [
    {
     "data": {
      "text/plain": [
       "780"
      ]
     },
     "execution_count": 4,
     "metadata": {},
     "output_type": "execute_result"
    }
   ],
   "source": [
    "#Get the length of the dataframe\n",
    "players= purchase_data[\"SN\"]\n",
    "total=len(players)\n",
    "total"
   ]
  },
  {
   "cell_type": "markdown",
   "metadata": {},
   "source": [
    "## PURCHASING ANALYSIS (TOTAL)"
   ]
  },
  {
   "cell_type": "code",
   "execution_count": 5,
   "metadata": {},
   "outputs": [
    {
     "data": {
      "text/html": [
       "<div>\n",
       "<style scoped>\n",
       "    .dataframe tbody tr th:only-of-type {\n",
       "        vertical-align: middle;\n",
       "    }\n",
       "\n",
       "    .dataframe tbody tr th {\n",
       "        vertical-align: top;\n",
       "    }\n",
       "\n",
       "    .dataframe thead th {\n",
       "        text-align: right;\n",
       "    }\n",
       "</style>\n",
       "<table border=\"1\" class=\"dataframe\">\n",
       "  <thead>\n",
       "    <tr style=\"text-align: right;\">\n",
       "      <th></th>\n",
       "      <th>Total Players</th>\n",
       "    </tr>\n",
       "  </thead>\n",
       "  <tbody>\n",
       "    <tr>\n",
       "      <td>0</td>\n",
       "      <td>576</td>\n",
       "    </tr>\n",
       "  </tbody>\n",
       "</table>\n",
       "</div>"
      ],
      "text/plain": [
       "   Total Players\n",
       "0            576"
      ]
     },
     "execution_count": 5,
     "metadata": {},
     "output_type": "execute_result"
    }
   ],
   "source": [
    "#Get the total number of players\n",
    "s=[]\n",
    "for i in players:\n",
    "        if i not in s:\n",
    "           s.append(i)\n",
    "total_players= len(s)\n",
    "total_players\n",
    "count_df= pd.DataFrame({\"Total Players\": [total_players]})\n",
    "count_df"
   ]
  },
  {
   "cell_type": "code",
   "execution_count": 6,
   "metadata": {},
   "outputs": [],
   "source": [
    "#Get the number of items\n",
    "Items= purchase_data[\"Item ID\"].nunique()\n",
    "\n"
   ]
  },
  {
   "cell_type": "code",
   "execution_count": 7,
   "metadata": {},
   "outputs": [],
   "source": [
    "#Get the average purchase price\n",
    "purchase_price= purchase_data[\"Price\"].mean()\n",
    "purchase_price= round(purchase_price,2)\n"
   ]
  },
  {
   "cell_type": "code",
   "execution_count": 8,
   "metadata": {},
   "outputs": [],
   "source": [
    "#Find the number of purchases\n",
    "purchases= purchase_data[\"Purchase ID\"].nunique()\n",
    "purchases= (f\"${purchases}\")\n"
   ]
  },
  {
   "cell_type": "code",
   "execution_count": 9,
   "metadata": {},
   "outputs": [],
   "source": [
    "#Find the total revenue\n",
    "revenue= purchase_data[\"Price\"].sum()\n",
    "revenue= (f\"${revenue}\")\n"
   ]
  },
  {
   "cell_type": "code",
   "execution_count": 10,
   "metadata": {},
   "outputs": [
    {
     "data": {
      "text/html": [
       "<div>\n",
       "<style scoped>\n",
       "    .dataframe tbody tr th:only-of-type {\n",
       "        vertical-align: middle;\n",
       "    }\n",
       "\n",
       "    .dataframe tbody tr th {\n",
       "        vertical-align: top;\n",
       "    }\n",
       "\n",
       "    .dataframe thead th {\n",
       "        text-align: right;\n",
       "    }\n",
       "</style>\n",
       "<table border=\"1\" class=\"dataframe\">\n",
       "  <thead>\n",
       "    <tr style=\"text-align: right;\">\n",
       "      <th></th>\n",
       "      <th>Number of Unique Items</th>\n",
       "      <th>Average Price</th>\n",
       "      <th>Number of Purchases</th>\n",
       "      <th>Total Revenue</th>\n",
       "    </tr>\n",
       "  </thead>\n",
       "  <tbody>\n",
       "    <tr>\n",
       "      <td>0</td>\n",
       "      <td>183</td>\n",
       "      <td>3.05</td>\n",
       "      <td>$780</td>\n",
       "      <td>$2379.77</td>\n",
       "    </tr>\n",
       "  </tbody>\n",
       "</table>\n",
       "</div>"
      ],
      "text/plain": [
       "   Number of Unique Items  Average Price Number of Purchases Total Revenue\n",
       "0                     183           3.05                $780      $2379.77"
      ]
     },
     "execution_count": 10,
     "metadata": {},
     "output_type": "execute_result"
    }
   ],
   "source": [
    "#Put it all in a dataframe\n",
    "Purchasing_Analysis_df= pd.DataFrame({\"Number of Unique Items\":[Items], \"Average Price\":[purchase_price], \"Number of Purchases\":[purchases], \"Total Revenue\":[revenue]})\n",
    "Purchasing_Analysis_df"
   ]
  },
  {
   "cell_type": "markdown",
   "metadata": {},
   "source": [
    "## GENDER DEMOGRAPHICS"
   ]
  },
  {
   "cell_type": "code",
   "execution_count": 11,
   "metadata": {},
   "outputs": [
    {
     "data": {
      "text/plain": [
       "array(['Male', 'Other / Non-Disclosed', 'Female'], dtype=object)"
      ]
     },
     "execution_count": 11,
     "metadata": {},
     "output_type": "execute_result"
    }
   ],
   "source": [
    "#Get the list of all genders in dataframe\n",
    "genders= purchase_data[\"Gender\"].unique()\n",
    "genders"
   ]
  },
  {
   "cell_type": "code",
   "execution_count": 12,
   "metadata": {},
   "outputs": [
    {
     "data": {
      "text/html": [
       "<div>\n",
       "<style scoped>\n",
       "    .dataframe tbody tr th:only-of-type {\n",
       "        vertical-align: middle;\n",
       "    }\n",
       "\n",
       "    .dataframe tbody tr th {\n",
       "        vertical-align: top;\n",
       "    }\n",
       "\n",
       "    .dataframe thead th {\n",
       "        text-align: right;\n",
       "    }\n",
       "</style>\n",
       "<table border=\"1\" class=\"dataframe\">\n",
       "  <thead>\n",
       "    <tr style=\"text-align: right;\">\n",
       "      <th></th>\n",
       "      <th>Purchase ID</th>\n",
       "      <th>Age</th>\n",
       "      <th>Gender</th>\n",
       "      <th>Item ID</th>\n",
       "      <th>Item Name</th>\n",
       "      <th>Price</th>\n",
       "    </tr>\n",
       "    <tr>\n",
       "      <th>SN</th>\n",
       "      <th></th>\n",
       "      <th></th>\n",
       "      <th></th>\n",
       "      <th></th>\n",
       "      <th></th>\n",
       "      <th></th>\n",
       "    </tr>\n",
       "  </thead>\n",
       "  <tbody>\n",
       "    <tr>\n",
       "      <td>Adairialis76</td>\n",
       "      <td>467</td>\n",
       "      <td>16</td>\n",
       "      <td>Male</td>\n",
       "      <td>123</td>\n",
       "      <td>Twilight's Carver</td>\n",
       "      <td>2.28</td>\n",
       "    </tr>\n",
       "    <tr>\n",
       "      <td>Adastirin33</td>\n",
       "      <td>142</td>\n",
       "      <td>35</td>\n",
       "      <td>Female</td>\n",
       "      <td>175</td>\n",
       "      <td>Woeful Adamantite Claymore</td>\n",
       "      <td>4.48</td>\n",
       "    </tr>\n",
       "    <tr>\n",
       "      <td>Aeda94</td>\n",
       "      <td>388</td>\n",
       "      <td>17</td>\n",
       "      <td>Male</td>\n",
       "      <td>128</td>\n",
       "      <td>Blazeguard, Reach of Eternity</td>\n",
       "      <td>4.91</td>\n",
       "    </tr>\n",
       "    <tr>\n",
       "      <td>Aela59</td>\n",
       "      <td>28</td>\n",
       "      <td>21</td>\n",
       "      <td>Male</td>\n",
       "      <td>119</td>\n",
       "      <td>Stormbringer, Dark Blade of Ending Misery</td>\n",
       "      <td>4.32</td>\n",
       "    </tr>\n",
       "    <tr>\n",
       "      <td>Aelaria33</td>\n",
       "      <td>630</td>\n",
       "      <td>23</td>\n",
       "      <td>Male</td>\n",
       "      <td>171</td>\n",
       "      <td>Scalpel</td>\n",
       "      <td>1.79</td>\n",
       "    </tr>\n",
       "    <tr>\n",
       "      <td>...</td>\n",
       "      <td>...</td>\n",
       "      <td>...</td>\n",
       "      <td>...</td>\n",
       "      <td>...</td>\n",
       "      <td>...</td>\n",
       "      <td>...</td>\n",
       "    </tr>\n",
       "    <tr>\n",
       "      <td>Yathecal82</td>\n",
       "      <td>125</td>\n",
       "      <td>20</td>\n",
       "      <td>Female</td>\n",
       "      <td>62</td>\n",
       "      <td>Piece Maker</td>\n",
       "      <td>1.87</td>\n",
       "    </tr>\n",
       "    <tr>\n",
       "      <td>Yathedeu43</td>\n",
       "      <td>93</td>\n",
       "      <td>22</td>\n",
       "      <td>Male</td>\n",
       "      <td>88</td>\n",
       "      <td>Emberling, Defender of Delusions</td>\n",
       "      <td>3.75</td>\n",
       "    </tr>\n",
       "    <tr>\n",
       "      <td>Yoishirrala98</td>\n",
       "      <td>572</td>\n",
       "      <td>17</td>\n",
       "      <td>Female</td>\n",
       "      <td>145</td>\n",
       "      <td>Fiery Glass Crusader</td>\n",
       "      <td>4.58</td>\n",
       "    </tr>\n",
       "    <tr>\n",
       "      <td>Zhisrisu83</td>\n",
       "      <td>54</td>\n",
       "      <td>10</td>\n",
       "      <td>Male</td>\n",
       "      <td>25</td>\n",
       "      <td>Hero Cane</td>\n",
       "      <td>4.35</td>\n",
       "    </tr>\n",
       "    <tr>\n",
       "      <td>Zontibe81</td>\n",
       "      <td>17</td>\n",
       "      <td>21</td>\n",
       "      <td>Male</td>\n",
       "      <td>161</td>\n",
       "      <td>Devine</td>\n",
       "      <td>1.76</td>\n",
       "    </tr>\n",
       "  </tbody>\n",
       "</table>\n",
       "<p>576 rows × 6 columns</p>\n",
       "</div>"
      ],
      "text/plain": [
       "               Purchase ID  Age  Gender  Item ID  \\\n",
       "SN                                                 \n",
       "Adairialis76           467   16    Male      123   \n",
       "Adastirin33            142   35  Female      175   \n",
       "Aeda94                 388   17    Male      128   \n",
       "Aela59                  28   21    Male      119   \n",
       "Aelaria33              630   23    Male      171   \n",
       "...                    ...  ...     ...      ...   \n",
       "Yathecal82             125   20  Female       62   \n",
       "Yathedeu43              93   22    Male       88   \n",
       "Yoishirrala98          572   17  Female      145   \n",
       "Zhisrisu83              54   10    Male       25   \n",
       "Zontibe81               17   21    Male      161   \n",
       "\n",
       "                                               Item Name  Price  \n",
       "SN                                                               \n",
       "Adairialis76                           Twilight's Carver   2.28  \n",
       "Adastirin33                   Woeful Adamantite Claymore   4.48  \n",
       "Aeda94                     Blazeguard, Reach of Eternity   4.91  \n",
       "Aela59         Stormbringer, Dark Blade of Ending Misery   4.32  \n",
       "Aelaria33                                        Scalpel   1.79  \n",
       "...                                                  ...    ...  \n",
       "Yathecal82                                   Piece Maker   1.87  \n",
       "Yathedeu43              Emberling, Defender of Delusions   3.75  \n",
       "Yoishirrala98                       Fiery Glass Crusader   4.58  \n",
       "Zhisrisu83                                     Hero Cane   4.35  \n",
       "Zontibe81                                         Devine   1.76  \n",
       "\n",
       "[576 rows x 6 columns]"
      ]
     },
     "execution_count": 12,
     "metadata": {},
     "output_type": "execute_result"
    }
   ],
   "source": [
    "#group the data by Screen name\n",
    "sorted_gender= purchase_data.groupby(\"SN\").first()\n",
    "sorted_gender"
   ]
  },
  {
   "cell_type": "code",
   "execution_count": 13,
   "metadata": {},
   "outputs": [
    {
     "data": {
      "text/html": [
       "<style  type=\"text/css\" >\n",
       "</style><table id=\"T_0a2f255e_5b22_11ea_bc0e_548ca0f52366\" ><thead>    <tr>        <th class=\"blank level0\" ></th>        <th class=\"col_heading level0 col0\" >Total Count</th>        <th class=\"col_heading level0 col1\" >Percentage of Players</th>    </tr></thead><tbody>\n",
       "                <tr>\n",
       "                        <th id=\"T_0a2f255e_5b22_11ea_bc0e_548ca0f52366level0_row0\" class=\"row_heading level0 row0\" >Male</th>\n",
       "                        <td id=\"T_0a2f255e_5b22_11ea_bc0e_548ca0f52366row0_col0\" class=\"data row0 col0\" >484</td>\n",
       "                        <td id=\"T_0a2f255e_5b22_11ea_bc0e_548ca0f52366row0_col1\" class=\"data row0 col1\" >84.03%</td>\n",
       "            </tr>\n",
       "            <tr>\n",
       "                        <th id=\"T_0a2f255e_5b22_11ea_bc0e_548ca0f52366level0_row1\" class=\"row_heading level0 row1\" >Female</th>\n",
       "                        <td id=\"T_0a2f255e_5b22_11ea_bc0e_548ca0f52366row1_col0\" class=\"data row1 col0\" >81</td>\n",
       "                        <td id=\"T_0a2f255e_5b22_11ea_bc0e_548ca0f52366row1_col1\" class=\"data row1 col1\" >14.06%</td>\n",
       "            </tr>\n",
       "            <tr>\n",
       "                        <th id=\"T_0a2f255e_5b22_11ea_bc0e_548ca0f52366level0_row2\" class=\"row_heading level0 row2\" >Other / Non-Disclosed</th>\n",
       "                        <td id=\"T_0a2f255e_5b22_11ea_bc0e_548ca0f52366row2_col0\" class=\"data row2 col0\" >11</td>\n",
       "                        <td id=\"T_0a2f255e_5b22_11ea_bc0e_548ca0f52366row2_col1\" class=\"data row2 col1\" >1.91%</td>\n",
       "            </tr>\n",
       "    </tbody></table>"
      ],
      "text/plain": [
       "<pandas.io.formats.style.Styler at 0x199a7426d08>"
      ]
     },
     "execution_count": 13,
     "metadata": {},
     "output_type": "execute_result"
    }
   ],
   "source": [
    "#Get the total count & percent of players\n",
    "gender_cnt= sorted_gender[\"Gender\"].value_counts()\n",
    "gender_pct= sorted_gender[\"Gender\"].value_counts(normalize=True)*100\n",
    "#Put it in a dataframe\n",
    "Gender_Demographics= pd.DataFrame({\"Total Count\":gender_cnt, \"Percentage of Players\": gender_pct })\n",
    "Gender_Demographics= Gender_Demographics.style.format({\"Percentage of Players\":\"{:.2f}%\"})\n",
    "\n",
    "Gender_Demographics\n"
   ]
  },
  {
   "cell_type": "markdown",
   "metadata": {},
   "source": [
    "## PURCHASING ANALYSIS (GENDER)"
   ]
  },
  {
   "cell_type": "code",
   "execution_count": 14,
   "metadata": {},
   "outputs": [
    {
     "data": {
      "text/html": [
       "<style  type=\"text/css\" >\n",
       "</style><table id=\"T_0a3ffbf6_5b22_11ea_89c6_548ca0f52366\" ><thead>    <tr>        <th class=\"blank level0\" ></th>        <th class=\"col_heading level0 col0\" >Purchase Count</th>        <th class=\"col_heading level0 col1\" >Average Purchase Price</th>        <th class=\"col_heading level0 col2\" >Total Purchase Value</th>        <th class=\"col_heading level0 col3\" >Avg Total Purchase per Person</th>    </tr>    <tr>        <th class=\"index_name level0\" >Gender</th>        <th class=\"blank\" ></th>        <th class=\"blank\" ></th>        <th class=\"blank\" ></th>        <th class=\"blank\" ></th>    </tr></thead><tbody>\n",
       "                <tr>\n",
       "                        <th id=\"T_0a3ffbf6_5b22_11ea_89c6_548ca0f52366level0_row0\" class=\"row_heading level0 row0\" >Female</th>\n",
       "                        <td id=\"T_0a3ffbf6_5b22_11ea_89c6_548ca0f52366row0_col0\" class=\"data row0 col0\" >113</td>\n",
       "                        <td id=\"T_0a3ffbf6_5b22_11ea_89c6_548ca0f52366row0_col1\" class=\"data row0 col1\" >$3.20</td>\n",
       "                        <td id=\"T_0a3ffbf6_5b22_11ea_89c6_548ca0f52366row0_col2\" class=\"data row0 col2\" >$361.94</td>\n",
       "                        <td id=\"T_0a3ffbf6_5b22_11ea_89c6_548ca0f52366row0_col3\" class=\"data row0 col3\" >$4.47</td>\n",
       "            </tr>\n",
       "            <tr>\n",
       "                        <th id=\"T_0a3ffbf6_5b22_11ea_89c6_548ca0f52366level0_row1\" class=\"row_heading level0 row1\" >Male</th>\n",
       "                        <td id=\"T_0a3ffbf6_5b22_11ea_89c6_548ca0f52366row1_col0\" class=\"data row1 col0\" >652</td>\n",
       "                        <td id=\"T_0a3ffbf6_5b22_11ea_89c6_548ca0f52366row1_col1\" class=\"data row1 col1\" >$3.02</td>\n",
       "                        <td id=\"T_0a3ffbf6_5b22_11ea_89c6_548ca0f52366row1_col2\" class=\"data row1 col2\" >$1967.64</td>\n",
       "                        <td id=\"T_0a3ffbf6_5b22_11ea_89c6_548ca0f52366row1_col3\" class=\"data row1 col3\" >$4.07</td>\n",
       "            </tr>\n",
       "            <tr>\n",
       "                        <th id=\"T_0a3ffbf6_5b22_11ea_89c6_548ca0f52366level0_row2\" class=\"row_heading level0 row2\" >Other / Non-Disclosed</th>\n",
       "                        <td id=\"T_0a3ffbf6_5b22_11ea_89c6_548ca0f52366row2_col0\" class=\"data row2 col0\" >15</td>\n",
       "                        <td id=\"T_0a3ffbf6_5b22_11ea_89c6_548ca0f52366row2_col1\" class=\"data row2 col1\" >$3.35</td>\n",
       "                        <td id=\"T_0a3ffbf6_5b22_11ea_89c6_548ca0f52366row2_col2\" class=\"data row2 col2\" >$50.19</td>\n",
       "                        <td id=\"T_0a3ffbf6_5b22_11ea_89c6_548ca0f52366row2_col3\" class=\"data row2 col3\" >$4.56</td>\n",
       "            </tr>\n",
       "    </tbody></table>"
      ],
      "text/plain": [
       "<pandas.io.formats.style.Styler at 0x199a7c7b108>"
      ]
     },
     "execution_count": 14,
     "metadata": {},
     "output_type": "execute_result"
    }
   ],
   "source": [
    "#Group data and find values\n",
    "grouped_gender= purchase_data.groupby(\"Gender\")\n",
    "purchase_cnt= grouped_gender[\"Gender\"].count()\n",
    "\n",
    "avg_price= grouped_gender[\"Price\"].mean()\n",
    "total_price= grouped_gender[\"Price\"].sum()\n",
    "avg_total= total_price/gender_cnt\n",
    "#Put value in dataframe and format\n",
    "Purchasing_Analysis= pd.DataFrame({\"Purchase Count\": purchase_cnt,\"Average Purchase Price\": avg_price, \"Total Purchase Value\": total_price,\"Avg Total Purchase per Person\": avg_total})\n",
    "Purchasing_Analysis= Purchasing_Analysis.style.format({\"Average Purchase Price\": \"${:.2f}\", \"Total Purchase Value\": \"${:.2f}\", \"Avg Total Purchase per Person\":\"${:.2f}\"})\n",
    "Purchasing_Analysis"
   ]
  },
  {
   "cell_type": "markdown",
   "metadata": {},
   "source": [
    "## AGE DEMOGRAPHICS"
   ]
  },
  {
   "cell_type": "code",
   "execution_count": 15,
   "metadata": {},
   "outputs": [
    {
     "name": "stdout",
     "output_type": "stream",
     "text": [
      "7\n",
      "45\n"
     ]
    }
   ],
   "source": [
    "#Find maximum and minimum values\n",
    "print(purchase_data[\"Age\"].min())\n",
    "print(purchase_data[\"Age\"].max())"
   ]
  },
  {
   "cell_type": "code",
   "execution_count": 16,
   "metadata": {},
   "outputs": [
    {
     "data": {
      "text/html": [
       "<div>\n",
       "<style scoped>\n",
       "    .dataframe tbody tr th:only-of-type {\n",
       "        vertical-align: middle;\n",
       "    }\n",
       "\n",
       "    .dataframe tbody tr th {\n",
       "        vertical-align: top;\n",
       "    }\n",
       "\n",
       "    .dataframe thead th {\n",
       "        text-align: right;\n",
       "    }\n",
       "</style>\n",
       "<table border=\"1\" class=\"dataframe\">\n",
       "  <thead>\n",
       "    <tr style=\"text-align: right;\">\n",
       "      <th></th>\n",
       "      <th>Purchase ID</th>\n",
       "      <th>SN</th>\n",
       "      <th>Age</th>\n",
       "      <th>Gender</th>\n",
       "      <th>Item ID</th>\n",
       "      <th>Item Name</th>\n",
       "      <th>Price</th>\n",
       "      <th></th>\n",
       "    </tr>\n",
       "  </thead>\n",
       "  <tbody>\n",
       "    <tr>\n",
       "      <td>0</td>\n",
       "      <td>0</td>\n",
       "      <td>Lisim78</td>\n",
       "      <td>20</td>\n",
       "      <td>Male</td>\n",
       "      <td>108</td>\n",
       "      <td>Extraction, Quickblade Of Trembling Hands</td>\n",
       "      <td>3.53</td>\n",
       "      <td>20-24</td>\n",
       "    </tr>\n",
       "    <tr>\n",
       "      <td>1</td>\n",
       "      <td>1</td>\n",
       "      <td>Lisovynya38</td>\n",
       "      <td>40</td>\n",
       "      <td>Male</td>\n",
       "      <td>143</td>\n",
       "      <td>Frenzied Scimitar</td>\n",
       "      <td>1.56</td>\n",
       "      <td>40+</td>\n",
       "    </tr>\n",
       "    <tr>\n",
       "      <td>2</td>\n",
       "      <td>2</td>\n",
       "      <td>Ithergue48</td>\n",
       "      <td>24</td>\n",
       "      <td>Male</td>\n",
       "      <td>92</td>\n",
       "      <td>Final Critic</td>\n",
       "      <td>4.88</td>\n",
       "      <td>20-24</td>\n",
       "    </tr>\n",
       "    <tr>\n",
       "      <td>3</td>\n",
       "      <td>3</td>\n",
       "      <td>Chamassasya86</td>\n",
       "      <td>24</td>\n",
       "      <td>Male</td>\n",
       "      <td>100</td>\n",
       "      <td>Blindscythe</td>\n",
       "      <td>3.27</td>\n",
       "      <td>20-24</td>\n",
       "    </tr>\n",
       "    <tr>\n",
       "      <td>4</td>\n",
       "      <td>4</td>\n",
       "      <td>Iskosia90</td>\n",
       "      <td>23</td>\n",
       "      <td>Male</td>\n",
       "      <td>131</td>\n",
       "      <td>Fury</td>\n",
       "      <td>1.44</td>\n",
       "      <td>20-24</td>\n",
       "    </tr>\n",
       "  </tbody>\n",
       "</table>\n",
       "</div>"
      ],
      "text/plain": [
       "   Purchase ID             SN  Age Gender  Item ID  \\\n",
       "0            0        Lisim78   20   Male      108   \n",
       "1            1    Lisovynya38   40   Male      143   \n",
       "2            2     Ithergue48   24   Male       92   \n",
       "3            3  Chamassasya86   24   Male      100   \n",
       "4            4      Iskosia90   23   Male      131   \n",
       "\n",
       "                                   Item Name  Price         \n",
       "0  Extraction, Quickblade Of Trembling Hands   3.53  20-24  \n",
       "1                          Frenzied Scimitar   1.56    40+  \n",
       "2                               Final Critic   4.88  20-24  \n",
       "3                                Blindscythe   3.27  20-24  \n",
       "4                                       Fury   1.44  20-24  "
      ]
     },
     "execution_count": 16,
     "metadata": {},
     "output_type": "execute_result"
    }
   ],
   "source": [
    "#Bin the values\n",
    "bins=[-1, 9, 14, 19, 24, 29, 34, 39, 50]\n",
    "group_labels= [\"<10\", \"10-14\", \"15-19\", \"20-24\", \"25-29\", \"30-34\", \"35-39\",\"40+\" ]\n",
    "#Put the bin data in the new dataframe\n",
    "purchase_data[\" \"]= pd.cut(purchase_data[\"Age\"], bins, labels= group_labels)\n",
    "purchase_data.head()"
   ]
  },
  {
   "cell_type": "code",
   "execution_count": 17,
   "metadata": {},
   "outputs": [
    {
     "data": {
      "text/html": [
       "<style  type=\"text/css\" >\n",
       "</style><table id=\"T_0d6e4e22_5b22_11ea_bd96_548ca0f52366\" ><thead>    <tr>        <th class=\"blank level0\" ></th>        <th class=\"col_heading level0 col0\" >Total Count</th>        <th class=\"col_heading level0 col1\" >Percentage of Players</th>    </tr>    <tr>        <th class=\"index_name level0\" > </th>        <th class=\"blank\" ></th>        <th class=\"blank\" ></th>    </tr></thead><tbody>\n",
       "                <tr>\n",
       "                        <th id=\"T_0d6e4e22_5b22_11ea_bd96_548ca0f52366level0_row0\" class=\"row_heading level0 row0\" ><10</th>\n",
       "                        <td id=\"T_0d6e4e22_5b22_11ea_bd96_548ca0f52366row0_col0\" class=\"data row0 col0\" >17</td>\n",
       "                        <td id=\"T_0d6e4e22_5b22_11ea_bd96_548ca0f52366row0_col1\" class=\"data row0 col1\" >2.95%</td>\n",
       "            </tr>\n",
       "            <tr>\n",
       "                        <th id=\"T_0d6e4e22_5b22_11ea_bd96_548ca0f52366level0_row1\" class=\"row_heading level0 row1\" >10-14</th>\n",
       "                        <td id=\"T_0d6e4e22_5b22_11ea_bd96_548ca0f52366row1_col0\" class=\"data row1 col0\" >22</td>\n",
       "                        <td id=\"T_0d6e4e22_5b22_11ea_bd96_548ca0f52366row1_col1\" class=\"data row1 col1\" >3.82%</td>\n",
       "            </tr>\n",
       "            <tr>\n",
       "                        <th id=\"T_0d6e4e22_5b22_11ea_bd96_548ca0f52366level0_row2\" class=\"row_heading level0 row2\" >15-19</th>\n",
       "                        <td id=\"T_0d6e4e22_5b22_11ea_bd96_548ca0f52366row2_col0\" class=\"data row2 col0\" >107</td>\n",
       "                        <td id=\"T_0d6e4e22_5b22_11ea_bd96_548ca0f52366row2_col1\" class=\"data row2 col1\" >18.58%</td>\n",
       "            </tr>\n",
       "            <tr>\n",
       "                        <th id=\"T_0d6e4e22_5b22_11ea_bd96_548ca0f52366level0_row3\" class=\"row_heading level0 row3\" >20-24</th>\n",
       "                        <td id=\"T_0d6e4e22_5b22_11ea_bd96_548ca0f52366row3_col0\" class=\"data row3 col0\" >258</td>\n",
       "                        <td id=\"T_0d6e4e22_5b22_11ea_bd96_548ca0f52366row3_col1\" class=\"data row3 col1\" >44.79%</td>\n",
       "            </tr>\n",
       "            <tr>\n",
       "                        <th id=\"T_0d6e4e22_5b22_11ea_bd96_548ca0f52366level0_row4\" class=\"row_heading level0 row4\" >25-29</th>\n",
       "                        <td id=\"T_0d6e4e22_5b22_11ea_bd96_548ca0f52366row4_col0\" class=\"data row4 col0\" >77</td>\n",
       "                        <td id=\"T_0d6e4e22_5b22_11ea_bd96_548ca0f52366row4_col1\" class=\"data row4 col1\" >13.37%</td>\n",
       "            </tr>\n",
       "            <tr>\n",
       "                        <th id=\"T_0d6e4e22_5b22_11ea_bd96_548ca0f52366level0_row5\" class=\"row_heading level0 row5\" >30-34</th>\n",
       "                        <td id=\"T_0d6e4e22_5b22_11ea_bd96_548ca0f52366row5_col0\" class=\"data row5 col0\" >52</td>\n",
       "                        <td id=\"T_0d6e4e22_5b22_11ea_bd96_548ca0f52366row5_col1\" class=\"data row5 col1\" >9.03%</td>\n",
       "            </tr>\n",
       "            <tr>\n",
       "                        <th id=\"T_0d6e4e22_5b22_11ea_bd96_548ca0f52366level0_row6\" class=\"row_heading level0 row6\" >35-39</th>\n",
       "                        <td id=\"T_0d6e4e22_5b22_11ea_bd96_548ca0f52366row6_col0\" class=\"data row6 col0\" >31</td>\n",
       "                        <td id=\"T_0d6e4e22_5b22_11ea_bd96_548ca0f52366row6_col1\" class=\"data row6 col1\" >5.38%</td>\n",
       "            </tr>\n",
       "            <tr>\n",
       "                        <th id=\"T_0d6e4e22_5b22_11ea_bd96_548ca0f52366level0_row7\" class=\"row_heading level0 row7\" >40+</th>\n",
       "                        <td id=\"T_0d6e4e22_5b22_11ea_bd96_548ca0f52366row7_col0\" class=\"data row7 col0\" >12</td>\n",
       "                        <td id=\"T_0d6e4e22_5b22_11ea_bd96_548ca0f52366row7_col1\" class=\"data row7 col1\" >2.08%</td>\n",
       "            </tr>\n",
       "    </tbody></table>"
      ],
      "text/plain": [
       "<pandas.io.formats.style.Styler at 0x199a7d0abc8>"
      ]
     },
     "execution_count": 17,
     "metadata": {},
     "output_type": "execute_result"
    }
   ],
   "source": [
    "#Group the dataframe\n",
    "grouped_gender_age= purchase_data.groupby(\"SN\").first()\n",
    "grouped_age= grouped_gender_age.groupby(\" \")\n",
    "#Find the values of percent and count\n",
    "age_cnt= grouped_age[\"Age\"].count()\n",
    "age_pct= grouped_age[\"Age\"].count()/total_players*100\n",
    "#Put values in a data frame and format\n",
    "Age_Demographics= pd.DataFrame({\"Total Count\": age_cnt,\"Percentage of Players\": age_pct})\n",
    "Age_Demographics= Age_Demographics.style.format({\"Percentage of Players\": \"{:.2f}%\"})\n",
    "Age_Demographics"
   ]
  },
  {
   "cell_type": "markdown",
   "metadata": {},
   "source": [
    "## TOP SPENDERS"
   ]
  },
  {
   "cell_type": "code",
   "execution_count": 18,
   "metadata": {},
   "outputs": [],
   "source": [
    "#Update new dataframe with header\n",
    "purchase_data[\"Age Ranges\"]= pd.cut(purchase_data[\"Age\"], bins, labels= group_labels)\n"
   ]
  },
  {
   "cell_type": "code",
   "execution_count": 19,
   "metadata": {},
   "outputs": [
    {
     "data": {
      "text/html": [
       "<style  type=\"text/css\" >\n",
       "</style><table id=\"T_0dc1f85c_5b22_11ea_b611_548ca0f52366\" ><thead>    <tr>        <th class=\"blank level0\" ></th>        <th class=\"col_heading level0 col0\" >Purchase Count</th>        <th class=\"col_heading level0 col1\" >Average Purchase Price</th>        <th class=\"col_heading level0 col2\" >Total Purchase Value</th>        <th class=\"col_heading level0 col3\" >Avg Total Purchase per Person</th>    </tr>    <tr>        <th class=\"index_name level0\" >Age Ranges</th>        <th class=\"blank\" ></th>        <th class=\"blank\" ></th>        <th class=\"blank\" ></th>        <th class=\"blank\" ></th>    </tr></thead><tbody>\n",
       "                <tr>\n",
       "                        <th id=\"T_0dc1f85c_5b22_11ea_b611_548ca0f52366level0_row0\" class=\"row_heading level0 row0\" ><10</th>\n",
       "                        <td id=\"T_0dc1f85c_5b22_11ea_b611_548ca0f52366row0_col0\" class=\"data row0 col0\" >23</td>\n",
       "                        <td id=\"T_0dc1f85c_5b22_11ea_b611_548ca0f52366row0_col1\" class=\"data row0 col1\" >$3.35</td>\n",
       "                        <td id=\"T_0dc1f85c_5b22_11ea_b611_548ca0f52366row0_col2\" class=\"data row0 col2\" >$77.13</td>\n",
       "                        <td id=\"T_0dc1f85c_5b22_11ea_b611_548ca0f52366row0_col3\" class=\"data row0 col3\" >$4.54</td>\n",
       "            </tr>\n",
       "            <tr>\n",
       "                        <th id=\"T_0dc1f85c_5b22_11ea_b611_548ca0f52366level0_row1\" class=\"row_heading level0 row1\" >10-14</th>\n",
       "                        <td id=\"T_0dc1f85c_5b22_11ea_b611_548ca0f52366row1_col0\" class=\"data row1 col0\" >28</td>\n",
       "                        <td id=\"T_0dc1f85c_5b22_11ea_b611_548ca0f52366row1_col1\" class=\"data row1 col1\" >$2.96</td>\n",
       "                        <td id=\"T_0dc1f85c_5b22_11ea_b611_548ca0f52366row1_col2\" class=\"data row1 col2\" >$82.78</td>\n",
       "                        <td id=\"T_0dc1f85c_5b22_11ea_b611_548ca0f52366row1_col3\" class=\"data row1 col3\" >$3.76</td>\n",
       "            </tr>\n",
       "            <tr>\n",
       "                        <th id=\"T_0dc1f85c_5b22_11ea_b611_548ca0f52366level0_row2\" class=\"row_heading level0 row2\" >15-19</th>\n",
       "                        <td id=\"T_0dc1f85c_5b22_11ea_b611_548ca0f52366row2_col0\" class=\"data row2 col0\" >136</td>\n",
       "                        <td id=\"T_0dc1f85c_5b22_11ea_b611_548ca0f52366row2_col1\" class=\"data row2 col1\" >$3.04</td>\n",
       "                        <td id=\"T_0dc1f85c_5b22_11ea_b611_548ca0f52366row2_col2\" class=\"data row2 col2\" >$412.89</td>\n",
       "                        <td id=\"T_0dc1f85c_5b22_11ea_b611_548ca0f52366row2_col3\" class=\"data row2 col3\" >$3.86</td>\n",
       "            </tr>\n",
       "            <tr>\n",
       "                        <th id=\"T_0dc1f85c_5b22_11ea_b611_548ca0f52366level0_row3\" class=\"row_heading level0 row3\" >20-24</th>\n",
       "                        <td id=\"T_0dc1f85c_5b22_11ea_b611_548ca0f52366row3_col0\" class=\"data row3 col0\" >365</td>\n",
       "                        <td id=\"T_0dc1f85c_5b22_11ea_b611_548ca0f52366row3_col1\" class=\"data row3 col1\" >$3.05</td>\n",
       "                        <td id=\"T_0dc1f85c_5b22_11ea_b611_548ca0f52366row3_col2\" class=\"data row3 col2\" >$1114.06</td>\n",
       "                        <td id=\"T_0dc1f85c_5b22_11ea_b611_548ca0f52366row3_col3\" class=\"data row3 col3\" >$4.32</td>\n",
       "            </tr>\n",
       "            <tr>\n",
       "                        <th id=\"T_0dc1f85c_5b22_11ea_b611_548ca0f52366level0_row4\" class=\"row_heading level0 row4\" >25-29</th>\n",
       "                        <td id=\"T_0dc1f85c_5b22_11ea_b611_548ca0f52366row4_col0\" class=\"data row4 col0\" >101</td>\n",
       "                        <td id=\"T_0dc1f85c_5b22_11ea_b611_548ca0f52366row4_col1\" class=\"data row4 col1\" >$2.90</td>\n",
       "                        <td id=\"T_0dc1f85c_5b22_11ea_b611_548ca0f52366row4_col2\" class=\"data row4 col2\" >$293.00</td>\n",
       "                        <td id=\"T_0dc1f85c_5b22_11ea_b611_548ca0f52366row4_col3\" class=\"data row4 col3\" >$3.81</td>\n",
       "            </tr>\n",
       "            <tr>\n",
       "                        <th id=\"T_0dc1f85c_5b22_11ea_b611_548ca0f52366level0_row5\" class=\"row_heading level0 row5\" >30-34</th>\n",
       "                        <td id=\"T_0dc1f85c_5b22_11ea_b611_548ca0f52366row5_col0\" class=\"data row5 col0\" >73</td>\n",
       "                        <td id=\"T_0dc1f85c_5b22_11ea_b611_548ca0f52366row5_col1\" class=\"data row5 col1\" >$2.93</td>\n",
       "                        <td id=\"T_0dc1f85c_5b22_11ea_b611_548ca0f52366row5_col2\" class=\"data row5 col2\" >$214.00</td>\n",
       "                        <td id=\"T_0dc1f85c_5b22_11ea_b611_548ca0f52366row5_col3\" class=\"data row5 col3\" >$4.12</td>\n",
       "            </tr>\n",
       "            <tr>\n",
       "                        <th id=\"T_0dc1f85c_5b22_11ea_b611_548ca0f52366level0_row6\" class=\"row_heading level0 row6\" >35-39</th>\n",
       "                        <td id=\"T_0dc1f85c_5b22_11ea_b611_548ca0f52366row6_col0\" class=\"data row6 col0\" >41</td>\n",
       "                        <td id=\"T_0dc1f85c_5b22_11ea_b611_548ca0f52366row6_col1\" class=\"data row6 col1\" >$3.60</td>\n",
       "                        <td id=\"T_0dc1f85c_5b22_11ea_b611_548ca0f52366row6_col2\" class=\"data row6 col2\" >$147.67</td>\n",
       "                        <td id=\"T_0dc1f85c_5b22_11ea_b611_548ca0f52366row6_col3\" class=\"data row6 col3\" >$4.76</td>\n",
       "            </tr>\n",
       "            <tr>\n",
       "                        <th id=\"T_0dc1f85c_5b22_11ea_b611_548ca0f52366level0_row7\" class=\"row_heading level0 row7\" >40+</th>\n",
       "                        <td id=\"T_0dc1f85c_5b22_11ea_b611_548ca0f52366row7_col0\" class=\"data row7 col0\" >13</td>\n",
       "                        <td id=\"T_0dc1f85c_5b22_11ea_b611_548ca0f52366row7_col1\" class=\"data row7 col1\" >$2.94</td>\n",
       "                        <td id=\"T_0dc1f85c_5b22_11ea_b611_548ca0f52366row7_col2\" class=\"data row7 col2\" >$38.24</td>\n",
       "                        <td id=\"T_0dc1f85c_5b22_11ea_b611_548ca0f52366row7_col3\" class=\"data row7 col3\" >$3.19</td>\n",
       "            </tr>\n",
       "    </tbody></table>"
      ],
      "text/plain": [
       "<pandas.io.formats.style.Styler at 0x199a7d06388>"
      ]
     },
     "execution_count": 19,
     "metadata": {},
     "output_type": "execute_result"
    }
   ],
   "source": [
    "#Group values and find values\n",
    "grouped_age_1= purchase_data.groupby(\"Age Ranges\")\n",
    "purchase_cnt= grouped_age_1[\"Purchase ID\"].count()\n",
    "avg_purchase= grouped_age_1[\"Price\"].mean()\n",
    "total_purchase= grouped_age_1[\"Price\"].sum()\n",
    "avg_price_person= total_purchase/age_cnt\n",
    "#Put value in dataframe and format\n",
    "Purchasing_Age= pd.DataFrame({\"Purchase Count\": purchase_cnt,\"Average Purchase Price\": avg_purchase, \"Total Purchase Value\": total_purchase, \"Avg Total Purchase per Person\":avg_price_person})\n",
    "Purchasing_Age= Purchasing_Age.style.format({\"Average Purchase Price\": \"${:.2f}\", \"Total Purchase Value\": \"${:.2f}\", \"Avg Total Purchase per Person\":\"${:.2f}\"})                                        \n",
    "Purchasing_Age"
   ]
  },
  {
   "cell_type": "code",
   "execution_count": 20,
   "metadata": {
    "scrolled": true
   },
   "outputs": [
    {
     "data": {
      "text/html": [
       "<style  type=\"text/css\" >\n",
       "</style><table id=\"T_0df128ae_5b22_11ea_9a8c_548ca0f52366\" ><thead>    <tr>        <th class=\"blank level0\" ></th>        <th class=\"col_heading level0 col0\" >Purchase Count</th>        <th class=\"col_heading level0 col1\" >Average Purchase Price</th>        <th class=\"col_heading level0 col2\" >Total Purchase Value</th>    </tr>    <tr>        <th class=\"index_name level0\" >SN</th>        <th class=\"blank\" ></th>        <th class=\"blank\" ></th>        <th class=\"blank\" ></th>    </tr></thead><tbody>\n",
       "                <tr>\n",
       "                        <th id=\"T_0df128ae_5b22_11ea_9a8c_548ca0f52366level0_row0\" class=\"row_heading level0 row0\" >Lisosia93</th>\n",
       "                        <td id=\"T_0df128ae_5b22_11ea_9a8c_548ca0f52366row0_col0\" class=\"data row0 col0\" >5</td>\n",
       "                        <td id=\"T_0df128ae_5b22_11ea_9a8c_548ca0f52366row0_col1\" class=\"data row0 col1\" >$3.79</td>\n",
       "                        <td id=\"T_0df128ae_5b22_11ea_9a8c_548ca0f52366row0_col2\" class=\"data row0 col2\" >$18.96</td>\n",
       "            </tr>\n",
       "            <tr>\n",
       "                        <th id=\"T_0df128ae_5b22_11ea_9a8c_548ca0f52366level0_row1\" class=\"row_heading level0 row1\" >Idastidru52</th>\n",
       "                        <td id=\"T_0df128ae_5b22_11ea_9a8c_548ca0f52366row1_col0\" class=\"data row1 col0\" >4</td>\n",
       "                        <td id=\"T_0df128ae_5b22_11ea_9a8c_548ca0f52366row1_col1\" class=\"data row1 col1\" >$3.86</td>\n",
       "                        <td id=\"T_0df128ae_5b22_11ea_9a8c_548ca0f52366row1_col2\" class=\"data row1 col2\" >$15.45</td>\n",
       "            </tr>\n",
       "            <tr>\n",
       "                        <th id=\"T_0df128ae_5b22_11ea_9a8c_548ca0f52366level0_row2\" class=\"row_heading level0 row2\" >Chamjask73</th>\n",
       "                        <td id=\"T_0df128ae_5b22_11ea_9a8c_548ca0f52366row2_col0\" class=\"data row2 col0\" >3</td>\n",
       "                        <td id=\"T_0df128ae_5b22_11ea_9a8c_548ca0f52366row2_col1\" class=\"data row2 col1\" >$4.61</td>\n",
       "                        <td id=\"T_0df128ae_5b22_11ea_9a8c_548ca0f52366row2_col2\" class=\"data row2 col2\" >$13.83</td>\n",
       "            </tr>\n",
       "            <tr>\n",
       "                        <th id=\"T_0df128ae_5b22_11ea_9a8c_548ca0f52366level0_row3\" class=\"row_heading level0 row3\" >Iral74</th>\n",
       "                        <td id=\"T_0df128ae_5b22_11ea_9a8c_548ca0f52366row3_col0\" class=\"data row3 col0\" >4</td>\n",
       "                        <td id=\"T_0df128ae_5b22_11ea_9a8c_548ca0f52366row3_col1\" class=\"data row3 col1\" >$3.40</td>\n",
       "                        <td id=\"T_0df128ae_5b22_11ea_9a8c_548ca0f52366row3_col2\" class=\"data row3 col2\" >$13.62</td>\n",
       "            </tr>\n",
       "            <tr>\n",
       "                        <th id=\"T_0df128ae_5b22_11ea_9a8c_548ca0f52366level0_row4\" class=\"row_heading level0 row4\" >Iskadarya95</th>\n",
       "                        <td id=\"T_0df128ae_5b22_11ea_9a8c_548ca0f52366row4_col0\" class=\"data row4 col0\" >3</td>\n",
       "                        <td id=\"T_0df128ae_5b22_11ea_9a8c_548ca0f52366row4_col1\" class=\"data row4 col1\" >$4.37</td>\n",
       "                        <td id=\"T_0df128ae_5b22_11ea_9a8c_548ca0f52366row4_col2\" class=\"data row4 col2\" >$13.10</td>\n",
       "            </tr>\n",
       "    </tbody></table>"
      ],
      "text/plain": [
       "<pandas.io.formats.style.Styler at 0x199a7d0bd08>"
      ]
     },
     "execution_count": 20,
     "metadata": {},
     "output_type": "execute_result"
    }
   ],
   "source": [
    "#Group and find values\n",
    "sorted_sn= purchase_data.groupby(\"SN\") \n",
    "purchase_count= sorted_sn[\"Purchase ID\"].count()\n",
    "avg_price=sorted_sn[\"Price\"].mean()\n",
    "total_purchase=sorted_sn[\"Price\"].sum()\n",
    "#Put value in dataframe and format\n",
    "Total_Spenders= pd.DataFrame({\"Purchase Count\": purchase_count,\"Average Purchase Price\": avg_price, \"Total Purchase Value\": total_purchase})\n",
    "format_Total_Spenders= Total_Spenders.sort_values([\"Total Purchase Value\"], ascending=False).head(5)\n",
    "format_Total_Spenders= format_Total_Spenders.style.format({\"Average Purchase Price\": \"${:.2f}\", \"Total Purchase Value\": \"${:.2f}\"}) \n",
    "format_Total_Spenders"
   ]
  },
  {
   "cell_type": "markdown",
   "metadata": {},
   "source": [
    "## MOST POPULAR ITEMS"
   ]
  },
  {
   "cell_type": "code",
   "execution_count": 21,
   "metadata": {},
   "outputs": [
    {
     "data": {
      "text/html": [
       "<style  type=\"text/css\" >\n",
       "</style><table id=\"T_0e0b9f76_5b22_11ea_a55d_548ca0f52366\" ><thead>    <tr>        <th class=\"blank\" ></th>        <th class=\"blank level0\" ></th>        <th class=\"col_heading level0 col0\" >Purchase Count</th>        <th class=\"col_heading level0 col1\" >Item Price</th>        <th class=\"col_heading level0 col2\" >Total Purchase Value</th>    </tr>    <tr>        <th class=\"index_name level0\" >Item ID</th>        <th class=\"index_name level1\" >Item Name</th>        <th class=\"blank\" ></th>        <th class=\"blank\" ></th>        <th class=\"blank\" ></th>    </tr></thead><tbody>\n",
       "                <tr>\n",
       "                        <th id=\"T_0e0b9f76_5b22_11ea_a55d_548ca0f52366level0_row0\" class=\"row_heading level0 row0\" >178</th>\n",
       "                        <th id=\"T_0e0b9f76_5b22_11ea_a55d_548ca0f52366level1_row0\" class=\"row_heading level1 row0\" >Oathbreaker, Last Hope of the Breaking Storm</th>\n",
       "                        <td id=\"T_0e0b9f76_5b22_11ea_a55d_548ca0f52366row0_col0\" class=\"data row0 col0\" >12</td>\n",
       "                        <td id=\"T_0e0b9f76_5b22_11ea_a55d_548ca0f52366row0_col1\" class=\"data row0 col1\" >$4.23</td>\n",
       "                        <td id=\"T_0e0b9f76_5b22_11ea_a55d_548ca0f52366row0_col2\" class=\"data row0 col2\" >$50.76</td>\n",
       "            </tr>\n",
       "            <tr>\n",
       "                        <th id=\"T_0e0b9f76_5b22_11ea_a55d_548ca0f52366level0_row1\" class=\"row_heading level0 row1\" >145</th>\n",
       "                        <th id=\"T_0e0b9f76_5b22_11ea_a55d_548ca0f52366level1_row1\" class=\"row_heading level1 row1\" >Fiery Glass Crusader</th>\n",
       "                        <td id=\"T_0e0b9f76_5b22_11ea_a55d_548ca0f52366row1_col0\" class=\"data row1 col0\" >9</td>\n",
       "                        <td id=\"T_0e0b9f76_5b22_11ea_a55d_548ca0f52366row1_col1\" class=\"data row1 col1\" >$4.58</td>\n",
       "                        <td id=\"T_0e0b9f76_5b22_11ea_a55d_548ca0f52366row1_col2\" class=\"data row1 col2\" >$41.22</td>\n",
       "            </tr>\n",
       "            <tr>\n",
       "                        <th id=\"T_0e0b9f76_5b22_11ea_a55d_548ca0f52366level0_row2\" class=\"row_heading level0 row2\" >108</th>\n",
       "                        <th id=\"T_0e0b9f76_5b22_11ea_a55d_548ca0f52366level1_row2\" class=\"row_heading level1 row2\" >Extraction, Quickblade Of Trembling Hands</th>\n",
       "                        <td id=\"T_0e0b9f76_5b22_11ea_a55d_548ca0f52366row2_col0\" class=\"data row2 col0\" >9</td>\n",
       "                        <td id=\"T_0e0b9f76_5b22_11ea_a55d_548ca0f52366row2_col1\" class=\"data row2 col1\" >$3.53</td>\n",
       "                        <td id=\"T_0e0b9f76_5b22_11ea_a55d_548ca0f52366row2_col2\" class=\"data row2 col2\" >$31.77</td>\n",
       "            </tr>\n",
       "            <tr>\n",
       "                        <th id=\"T_0e0b9f76_5b22_11ea_a55d_548ca0f52366level0_row3\" class=\"row_heading level0 row3\" >82</th>\n",
       "                        <th id=\"T_0e0b9f76_5b22_11ea_a55d_548ca0f52366level1_row3\" class=\"row_heading level1 row3\" >Nirvana</th>\n",
       "                        <td id=\"T_0e0b9f76_5b22_11ea_a55d_548ca0f52366row3_col0\" class=\"data row3 col0\" >9</td>\n",
       "                        <td id=\"T_0e0b9f76_5b22_11ea_a55d_548ca0f52366row3_col1\" class=\"data row3 col1\" >$4.90</td>\n",
       "                        <td id=\"T_0e0b9f76_5b22_11ea_a55d_548ca0f52366row3_col2\" class=\"data row3 col2\" >$44.10</td>\n",
       "            </tr>\n",
       "            <tr>\n",
       "                        <th id=\"T_0e0b9f76_5b22_11ea_a55d_548ca0f52366level0_row4\" class=\"row_heading level0 row4\" >19</th>\n",
       "                        <th id=\"T_0e0b9f76_5b22_11ea_a55d_548ca0f52366level1_row4\" class=\"row_heading level1 row4\" >Pursuit, Cudgel of Necromancy</th>\n",
       "                        <td id=\"T_0e0b9f76_5b22_11ea_a55d_548ca0f52366row4_col0\" class=\"data row4 col0\" >8</td>\n",
       "                        <td id=\"T_0e0b9f76_5b22_11ea_a55d_548ca0f52366row4_col1\" class=\"data row4 col1\" >$1.02</td>\n",
       "                        <td id=\"T_0e0b9f76_5b22_11ea_a55d_548ca0f52366row4_col2\" class=\"data row4 col2\" >$8.16</td>\n",
       "            </tr>\n",
       "    </tbody></table>"
      ],
      "text/plain": [
       "<pandas.io.formats.style.Styler at 0x199a7d06448>"
      ]
     },
     "execution_count": 21,
     "metadata": {},
     "output_type": "execute_result"
    }
   ],
   "source": [
    "#Group and find values\n",
    "retrieve_col= purchase_data.loc[:, [\"Item ID\", \"Item Name\", \"Price\"]]\n",
    "group_col= retrieve_col.groupby([\"Item ID\", \"Item Name\"])\n",
    "purchase_cnt= group_col[\"Price\"].count()\n",
    "item_price= group_col[\"Price\"].mean()\n",
    "purchase_value=group_col[\"Price\"].sum()\n",
    "#Put values in dataframe and format\n",
    "Most_Popular_Items= pd.DataFrame({\"Purchase Count\": purchase_cnt,\"Item Price\":item_price, \"Total Purchase Value\": purchase_value})\n",
    "format_Most_Popular_Items= Most_Popular_Items.sort_values(by= \"Purchase Count\", ascending=False).head(5)\n",
    "format_Most_Popular_Items= format_Most_Popular_Items.style.format({\"Item Price\": \"${:.2f}\", \"Total Purchase Value\": \"${:.2f}\"}) \n",
    "format_Most_Popular_Items\n"
   ]
  },
  {
   "cell_type": "markdown",
   "metadata": {},
   "source": [
    "## MOST PROFITABLE ITEMS"
   ]
  },
  {
   "cell_type": "code",
   "execution_count": 22,
   "metadata": {},
   "outputs": [
    {
     "data": {
      "text/html": [
       "<style  type=\"text/css\" >\n",
       "</style><table id=\"T_0e267fa2_5b22_11ea_9510_548ca0f52366\" ><thead>    <tr>        <th class=\"blank\" ></th>        <th class=\"blank level0\" ></th>        <th class=\"col_heading level0 col0\" >Purchase Count</th>        <th class=\"col_heading level0 col1\" >Item Price</th>        <th class=\"col_heading level0 col2\" >Total Purchase Value</th>    </tr>    <tr>        <th class=\"index_name level0\" >Item ID</th>        <th class=\"index_name level1\" >Item Name</th>        <th class=\"blank\" ></th>        <th class=\"blank\" ></th>        <th class=\"blank\" ></th>    </tr></thead><tbody>\n",
       "                <tr>\n",
       "                        <th id=\"T_0e267fa2_5b22_11ea_9510_548ca0f52366level0_row0\" class=\"row_heading level0 row0\" >178</th>\n",
       "                        <th id=\"T_0e267fa2_5b22_11ea_9510_548ca0f52366level1_row0\" class=\"row_heading level1 row0\" >Oathbreaker, Last Hope of the Breaking Storm</th>\n",
       "                        <td id=\"T_0e267fa2_5b22_11ea_9510_548ca0f52366row0_col0\" class=\"data row0 col0\" >12</td>\n",
       "                        <td id=\"T_0e267fa2_5b22_11ea_9510_548ca0f52366row0_col1\" class=\"data row0 col1\" >$4.23</td>\n",
       "                        <td id=\"T_0e267fa2_5b22_11ea_9510_548ca0f52366row0_col2\" class=\"data row0 col2\" >$50.76</td>\n",
       "            </tr>\n",
       "            <tr>\n",
       "                        <th id=\"T_0e267fa2_5b22_11ea_9510_548ca0f52366level0_row1\" class=\"row_heading level0 row1\" >82</th>\n",
       "                        <th id=\"T_0e267fa2_5b22_11ea_9510_548ca0f52366level1_row1\" class=\"row_heading level1 row1\" >Nirvana</th>\n",
       "                        <td id=\"T_0e267fa2_5b22_11ea_9510_548ca0f52366row1_col0\" class=\"data row1 col0\" >9</td>\n",
       "                        <td id=\"T_0e267fa2_5b22_11ea_9510_548ca0f52366row1_col1\" class=\"data row1 col1\" >$4.90</td>\n",
       "                        <td id=\"T_0e267fa2_5b22_11ea_9510_548ca0f52366row1_col2\" class=\"data row1 col2\" >$44.10</td>\n",
       "            </tr>\n",
       "            <tr>\n",
       "                        <th id=\"T_0e267fa2_5b22_11ea_9510_548ca0f52366level0_row2\" class=\"row_heading level0 row2\" >145</th>\n",
       "                        <th id=\"T_0e267fa2_5b22_11ea_9510_548ca0f52366level1_row2\" class=\"row_heading level1 row2\" >Fiery Glass Crusader</th>\n",
       "                        <td id=\"T_0e267fa2_5b22_11ea_9510_548ca0f52366row2_col0\" class=\"data row2 col0\" >9</td>\n",
       "                        <td id=\"T_0e267fa2_5b22_11ea_9510_548ca0f52366row2_col1\" class=\"data row2 col1\" >$4.58</td>\n",
       "                        <td id=\"T_0e267fa2_5b22_11ea_9510_548ca0f52366row2_col2\" class=\"data row2 col2\" >$41.22</td>\n",
       "            </tr>\n",
       "            <tr>\n",
       "                        <th id=\"T_0e267fa2_5b22_11ea_9510_548ca0f52366level0_row3\" class=\"row_heading level0 row3\" >92</th>\n",
       "                        <th id=\"T_0e267fa2_5b22_11ea_9510_548ca0f52366level1_row3\" class=\"row_heading level1 row3\" >Final Critic</th>\n",
       "                        <td id=\"T_0e267fa2_5b22_11ea_9510_548ca0f52366row3_col0\" class=\"data row3 col0\" >8</td>\n",
       "                        <td id=\"T_0e267fa2_5b22_11ea_9510_548ca0f52366row3_col1\" class=\"data row3 col1\" >$4.88</td>\n",
       "                        <td id=\"T_0e267fa2_5b22_11ea_9510_548ca0f52366row3_col2\" class=\"data row3 col2\" >$39.04</td>\n",
       "            </tr>\n",
       "            <tr>\n",
       "                        <th id=\"T_0e267fa2_5b22_11ea_9510_548ca0f52366level0_row4\" class=\"row_heading level0 row4\" >103</th>\n",
       "                        <th id=\"T_0e267fa2_5b22_11ea_9510_548ca0f52366level1_row4\" class=\"row_heading level1 row4\" >Singed Scalpel</th>\n",
       "                        <td id=\"T_0e267fa2_5b22_11ea_9510_548ca0f52366row4_col0\" class=\"data row4 col0\" >8</td>\n",
       "                        <td id=\"T_0e267fa2_5b22_11ea_9510_548ca0f52366row4_col1\" class=\"data row4 col1\" >$4.35</td>\n",
       "                        <td id=\"T_0e267fa2_5b22_11ea_9510_548ca0f52366row4_col2\" class=\"data row4 col2\" >$34.80</td>\n",
       "            </tr>\n",
       "    </tbody></table>"
      ],
      "text/plain": [
       "<pandas.io.formats.style.Styler at 0x199a7ce2e88>"
      ]
     },
     "execution_count": 22,
     "metadata": {},
     "output_type": "execute_result"
    }
   ],
   "source": [
    "#Use previous value to format the value with sorting of total purchase value\n",
    "Most_Profitable_Items= pd.DataFrame({\"Purchase Count\": purchase_cnt,\"Item Price\":item_price, \"Total Purchase Value\": purchase_value})\n",
    "format_Most_Profitable_Items= Most_Profitable_Items.sort_values(by= \"Total Purchase Value\", ascending=False).head(5)\n",
    "format_Most_Profitable_Items= format_Most_Profitable_Items.style.format({\"Item Price\": \"${:.2f}\", \"Total Purchase Value\": \"${:.2f}\"}) \n",
    "format_Most_Profitable_Items"
   ]
  },
  {
   "cell_type": "markdown",
   "metadata": {},
   "source": [
    "1. More Males played and spent more money on games. Therefore, marketing to males might seems to garner more profit in the long run\n",
    "2. The ages group of 20-24 spent the most money and played the most games. Aslos marketing to this age group would prove the most lucrtive. This could be due to the amount of disposable time and income available for this age group.\n",
    "3. Oathbreaker, Last Hope of the Breaking Storm was the game that made the most money. Makinf more copies of this game or games similar to the genre would prove best for returns."
   ]
  },
  {
   "cell_type": "code",
   "execution_count": null,
   "metadata": {},
   "outputs": [],
   "source": []
  }
 ],
 "metadata": {
  "kernelspec": {
   "display_name": "Python 3",
   "language": "python",
   "name": "python3"
  },
  "language_info": {
   "codemirror_mode": {
    "name": "ipython",
    "version": 3
   },
   "file_extension": ".py",
   "mimetype": "text/x-python",
   "name": "python",
   "nbconvert_exporter": "python",
   "pygments_lexer": "ipython3",
   "version": "3.7.4"
  }
 },
 "nbformat": 4,
 "nbformat_minor": 2
}
